{
  "nbformat": 4,
  "nbformat_minor": 0,
  "metadata": {
    "colab": {
      "name": "Manipulando strings.ipynb",
      "provenance": [],
      "collapsed_sections": [],
      "authorship_tag": "ABX9TyNc5e1Qep9S0KXfZ3wCbvl+",
      "include_colab_link": true
    },
    "kernelspec": {
      "name": "python3",
      "display_name": "Python 3"
    },
    "language_info": {
      "name": "python"
    }
  },
  "cells": [
    {
      "cell_type": "markdown",
      "metadata": {
        "id": "view-in-github",
        "colab_type": "text"
      },
      "source": [
        "<a href=\"https://colab.research.google.com/github/crislimab/projeto1/blob/main/Manipulando_strings.ipynb\" target=\"_parent\"><img src=\"https://colab.research.google.com/assets/colab-badge.svg\" alt=\"Open In Colab\"/></a>"
      ]
    },
    {
      "cell_type": "markdown",
      "source": [
        "# TRABALHANDO COM STRINGS\n",
        "\n"
      ],
      "metadata": {
        "id": "BwtZFOuH7Tzc"
      }
    },
    {
      "cell_type": "code",
      "execution_count": 104,
      "metadata": {
        "id": "l7MysoIGuRXq"
      },
      "outputs": [],
      "source": [
        "minha_string = 'Aprender python é top'"
      ]
    },
    {
      "cell_type": "code",
      "source": [
        "minha_string [:8]\n",
        "\n",
        "CPF='12675788700'\n"
      ],
      "metadata": {
        "id": "42Rqc8VhugRy"
      },
      "execution_count": 105,
      "outputs": []
    },
    {
      "cell_type": "code",
      "source": [
        ""
      ],
      "metadata": {
        "id": "K-CdsERc4vgv"
      },
      "execution_count": 105,
      "outputs": []
    },
    {
      "cell_type": "code",
      "source": [
        "string = \"Olá Mundo\"\n",
        "string_2 = 'Testando String'"
      ],
      "metadata": {
        "id": "b5A_lNc2ugNL"
      },
      "execution_count": 106,
      "outputs": []
    },
    {
      "cell_type": "code",
      "source": [
        "len(CPF)"
      ],
      "metadata": {
        "colab": {
          "base_uri": "https://localhost:8080/"
        },
        "id": "WXzTItxRugK3",
        "outputId": "e7f3d01a-affc-4386-90dc-4125325fc406"
      },
      "execution_count": 107,
      "outputs": [
        {
          "output_type": "execute_result",
          "data": {
            "text/plain": [
              "11"
            ]
          },
          "metadata": {},
          "execution_count": 107
        }
      ]
    },
    {
      "cell_type": "code",
      "source": [
        "type(CPF)"
      ],
      "metadata": {
        "colab": {
          "base_uri": "https://localhost:8080/"
        },
        "id": "HAQcg5L0ugIK",
        "outputId": "b1c6e096-849b-452d-9152-73428d8a7968"
      },
      "execution_count": 108,
      "outputs": [
        {
          "output_type": "execute_result",
          "data": {
            "text/plain": [
              "str"
            ]
          },
          "metadata": {},
          "execution_count": 108
        }
      ]
    },
    {
      "cell_type": "code",
      "source": [
        "string + ' ' +string_2"
      ],
      "metadata": {
        "colab": {
          "base_uri": "https://localhost:8080/",
          "height": 36
        },
        "id": "9xz8zBE0ugFl",
        "outputId": "d2d8b9c8-9e2e-40ca-d889-375495d50b6a"
      },
      "execution_count": 109,
      "outputs": [
        {
          "output_type": "execute_result",
          "data": {
            "text/plain": [
              "'Olá Mundo Testando String'"
            ],
            "application/vnd.google.colaboratory.intrinsic+json": {
              "type": "string"
            }
          },
          "metadata": {},
          "execution_count": 109
        }
      ]
    },
    {
      "cell_type": "code",
      "source": [
        "string_2.replace('Testando strig','Replace/Testando String')"
      ],
      "metadata": {
        "colab": {
          "base_uri": "https://localhost:8080/",
          "height": 36
        },
        "id": "k2V3JKU5ugDC",
        "outputId": "77079e71-b806-48bd-960e-4a6ed19f63ef"
      },
      "execution_count": 110,
      "outputs": [
        {
          "output_type": "execute_result",
          "data": {
            "text/plain": [
              "'Testando String'"
            ],
            "application/vnd.google.colaboratory.intrinsic+json": {
              "type": "string"
            }
          },
          "metadata": {},
          "execution_count": 110
        }
      ]
    },
    {
      "cell_type": "code",
      "source": [
        "CPF.replace('00','xx')"
      ],
      "metadata": {
        "colab": {
          "base_uri": "https://localhost:8080/",
          "height": 36
        },
        "id": "G2ID6oOUugAM",
        "outputId": "fa41163b-afdc-4db4-e432-73d1ed035bd7"
      },
      "execution_count": 111,
      "outputs": [
        {
          "output_type": "execute_result",
          "data": {
            "text/plain": [
              "'126757887xx'"
            ],
            "application/vnd.google.colaboratory.intrinsic+json": {
              "type": "string"
            }
          },
          "metadata": {},
          "execution_count": 111
        }
      ]
    },
    {
      "cell_type": "code",
      "source": [
        "CPF_2= '12312312340'\n"
      ],
      "metadata": {
        "id": "nXhr16RFuf9n"
      },
      "execution_count": 112,
      "outputs": []
    },
    {
      "cell_type": "code",
      "source": [
        "int(CPF_2.replace('CPF:', ''))"
      ],
      "metadata": {
        "colab": {
          "base_uri": "https://localhost:8080/"
        },
        "id": "7ILEYC4tuf6v",
        "outputId": "36a8915d-1e80-4655-dcde-1335ff5dc595"
      },
      "execution_count": 113,
      "outputs": [
        {
          "output_type": "execute_result",
          "data": {
            "text/plain": [
              "12312312340"
            ]
          },
          "metadata": {},
          "execution_count": 113
        }
      ]
    },
    {
      "cell_type": "code",
      "source": [
        "nome =  'diego'"
      ],
      "metadata": {
        "id": "GSCm2VIWuf3p"
      },
      "execution_count": 114,
      "outputs": []
    },
    {
      "cell_type": "code",
      "source": [
        "nome.count('s')"
      ],
      "metadata": {
        "colab": {
          "base_uri": "https://localhost:8080/"
        },
        "id": "mYmnTgutufu-",
        "outputId": "ef818383-5adc-4902-9c5d-62ebf4aac32b"
      },
      "execution_count": 115,
      "outputs": [
        {
          "output_type": "execute_result",
          "data": {
            "text/plain": [
              "0"
            ]
          },
          "metadata": {},
          "execution_count": 115
        }
      ]
    },
    {
      "cell_type": "code",
      "source": [
        "nome.capitalize()"
      ],
      "metadata": {
        "colab": {
          "base_uri": "https://localhost:8080/",
          "height": 36
        },
        "id": "uQ3c5UagufFR",
        "outputId": "d8437f1e-0e92-4e06-9694-4284c32a72af"
      },
      "execution_count": 116,
      "outputs": [
        {
          "output_type": "execute_result",
          "data": {
            "text/plain": [
              "'Diego'"
            ],
            "application/vnd.google.colaboratory.intrinsic+json": {
              "type": "string"
            }
          },
          "metadata": {},
          "execution_count": 116
        }
      ]
    },
    {
      "cell_type": "code",
      "source": [
        "print( '12345abc'.isalnum() )\n"
      ],
      "metadata": {
        "colab": {
          "base_uri": "https://localhost:8080/"
        },
        "id": "lTYK30SgMR5w",
        "outputId": "30135baf-5c46-4e1b-ab96-05fea904e398"
      },
      "execution_count": 117,
      "outputs": [
        {
          "output_type": "stream",
          "name": "stdout",
          "text": [
            "True\n"
          ]
        }
      ]
    },
    {
      "cell_type": "code",
      "source": [
        "print(int(CPF_2.replace('40','00')))\n"
      ],
      "metadata": {
        "colab": {
          "base_uri": "https://localhost:8080/"
        },
        "id": "E5jedVQXMUrC",
        "outputId": "15f49a14-fb9d-47ab-e966-4b2da687dfab"
      },
      "execution_count": 118,
      "outputs": [
        {
          "output_type": "stream",
          "name": "stdout",
          "text": [
            "12312312300\n"
          ]
        }
      ]
    },
    {
      "cell_type": "markdown",
      "source": [
        "# *Comando* Input"
      ],
      "metadata": {
        "id": "xu3IkFHe7QBl"
      }
    },
    {
      "cell_type": "code",
      "source": [
        "#InPUT\n"
      ],
      "metadata": {
        "id": "ToFLx1Ko8H2E"
      },
      "execution_count": 119,
      "outputs": []
    },
    {
      "cell_type": "code",
      "source": [
        "nome = input('Qual é o seu nome ')\n",
        "idade = input('Qual a sua idade ')\n",
        "\n",
        "print('Me chamo',nome)\n",
        "print('Tenho',idade , 'anos')"
      ],
      "metadata": {
        "colab": {
          "base_uri": "https://localhost:8080/"
        },
        "id": "RaaQTKHU-gN1",
        "outputId": "ec676e70-1558-4751-fdc6-1bd57b73ae1d"
      },
      "execution_count": 120,
      "outputs": [
        {
          "output_type": "stream",
          "name": "stdout",
          "text": [
            "Qual é o seu nome Cris\n",
            "Qual a sua idade 32\n",
            "Me chamo Cris\n",
            "Tenho 32 anos\n"
          ]
        }
      ]
    },
    {
      "cell_type": "code",
      "source": [
        "'Cristiane' == 'Diego'"
      ],
      "metadata": {
        "colab": {
          "base_uri": "https://localhost:8080/"
        },
        "id": "r03B5-bQAIjW",
        "outputId": "c45388e0-d6ee-4ea2-a9d3-5492175e636e"
      },
      "execution_count": 121,
      "outputs": [
        {
          "output_type": "execute_result",
          "data": {
            "text/plain": [
              "False"
            ]
          },
          "metadata": {},
          "execution_count": 121
        }
      ]
    },
    {
      "cell_type": "code",
      "source": [
        "10 != 8"
      ],
      "metadata": {
        "colab": {
          "base_uri": "https://localhost:8080/"
        },
        "id": "wC1AcLClARAk",
        "outputId": "2b72d4d7-35ba-4cf7-ea3a-046b2509368d"
      },
      "execution_count": 122,
      "outputs": [
        {
          "output_type": "execute_result",
          "data": {
            "text/plain": [
              "True"
            ]
          },
          "metadata": {},
          "execution_count": 122
        }
      ]
    },
    {
      "cell_type": "code",
      "source": [
        "nome= ['Cristiane',' Bispo']\n",
        "nome.append('Diego')\n"
      ],
      "metadata": {
        "id": "kTltirPpAtd1"
      },
      "execution_count": 124,
      "outputs": []
    },
    {
      "cell_type": "code",
      "source": [
        "nome.Replace('Bispo','Barbosa')"
      ],
      "metadata": {
        "colab": {
          "base_uri": "https://localhost:8080/",
          "height": 165
        },
        "id": "EuVBswqOX2V7",
        "outputId": "c2f6ba1b-b073-46b6-ed60-c8a9cddc101b"
      },
      "execution_count": 125,
      "outputs": [
        {
          "output_type": "error",
          "ename": "AttributeError",
          "evalue": "ignored",
          "traceback": [
            "\u001b[0;31m---------------------------------------------------------------------------\u001b[0m",
            "\u001b[0;31mAttributeError\u001b[0m                            Traceback (most recent call last)",
            "\u001b[0;32m<ipython-input-125-2778200ce9e2>\u001b[0m in \u001b[0;36m<module>\u001b[0;34m()\u001b[0m\n\u001b[0;32m----> 1\u001b[0;31m \u001b[0mnome\u001b[0m\u001b[0;34m.\u001b[0m\u001b[0mReplace\u001b[0m\u001b[0;34m(\u001b[0m\u001b[0;34m'Bispo'\u001b[0m\u001b[0;34m,\u001b[0m\u001b[0;34m'Barbosa'\u001b[0m\u001b[0;34m)\u001b[0m\u001b[0;34m\u001b[0m\u001b[0;34m\u001b[0m\u001b[0m\n\u001b[0m",
            "\u001b[0;31mAttributeError\u001b[0m: 'list' object has no attribute 'Replace'"
          ]
        }
      ]
    }
  ]
}